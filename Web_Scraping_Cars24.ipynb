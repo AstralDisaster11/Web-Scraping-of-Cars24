{
  "nbformat": 4,
  "nbformat_minor": 0,
  "metadata": {
    "colab": {
      "provenance": []
    },
    "kernelspec": {
      "name": "python3",
      "display_name": "Python 3"
    },
    "language_info": {
      "name": "python"
    }
  },
  "cells": [
    {
      "cell_type": "markdown",
      "source": [
        "#Importing required libraries"
      ],
      "metadata": {
        "id": "IpijCdhS4bMN"
      }
    },
    {
      "cell_type": "code",
      "execution_count": null,
      "metadata": {
        "id": "6vUnEZ7B2hCN"
      },
      "outputs": [],
      "source": [
        "import pandas as pd\n",
        "import numpy as np\n",
        "import matplotlib.pyplot as plt\n",
        "import seaborn as sns"
      ]
    },
    {
      "cell_type": "markdown",
      "source": [
        "#Loading Dataset"
      ],
      "metadata": {
        "id": "XUQs3rUd4kCi"
      }
    },
    {
      "cell_type": "code",
      "source": [
        "df = pd.read_csv(\"Hyundai_cars_data.csv\")\n",
        "df1 = pd.read_csv(\"Kia_cars_data.csv\")\n",
        "df2 = pd.read_csv(\"Nissan_cars_data.csv\")"
      ],
      "metadata": {
        "id": "jRTF2naz38jI"
      },
      "execution_count": null,
      "outputs": []
    },
    {
      "cell_type": "markdown",
      "source": [
        "#Checking first few rows of each dataset"
      ],
      "metadata": {
        "id": "1uTixJcd4p34"
      }
    },
    {
      "cell_type": "code",
      "source": [
        "print(\"Hyundai cars data:\")\n",
        "print(df.head())"
      ],
      "metadata": {
        "colab": {
          "base_uri": "https://localhost:8080/"
        },
        "id": "HautOhL44GTA",
        "outputId": "1e54054b-eb9e-4cec-8211-2fe700134fa4"
      },
      "execution_count": null,
      "outputs": [
        {
          "output_type": "stream",
          "name": "stdout",
          "text": [
            "Hyundai cars data:\n",
            "                                 Name                                 Details  \\\n",
            "0       Hyundai Elite i20ASTA 1.2 (O)       Top Model41,049 kmPetrol2nd owner   \n",
            "1  Hyundai CretaSX PLUS AT 1.6 DIESEL       Top Model33,417 kmDiesel2nd owner   \n",
            "2             Hyundai i20 Active1.2 S    Alloy wheels66,357 kmPetrol2nd owner   \n",
            "3       Hyundai NEW I20Sportz 1.2 IVT    Reg. serviced8,330 kmPetrol1st owner   \n",
            "4       Hyundai VENUESX 1.0 (O) TURBO  Fancy reg. no.23,955 kmPetrol2nd owner   \n",
            "\n",
            "    Price                                      Location  Year  \\\n",
            "0  ₹5.80L     Free Test DriveTomorrowatGoregaon, Mumbai  2019   \n",
            "1  ₹8.25L     Free Test DriveTomorrowatGoregaon, Mumbai  2016   \n",
            "2  ₹4.65L  Free Test DriveTomorrowatMulund West, Mumbai  2016   \n",
            "3  ₹8.76L     Free Test DriveTomorrowatGoregaon, Mumbai  2022   \n",
            "4  ₹8.87L              Free Test DriveTomorrowatSeawood  2021   \n",
            "\n",
            "  Kilometers Driven Fuel Type      Owner  \n",
            "0            41,049    Petrol  2nd owner  \n",
            "1            33,417    Diesel  2nd owner  \n",
            "2            66,357    Petrol  2nd owner  \n",
            "3             8,330    Petrol  1st owner  \n",
            "4            23,955    Petrol  2nd owner  \n"
          ]
        }
      ]
    },
    {
      "cell_type": "code",
      "source": [
        "print(\"Kia cars data:\")\n",
        "print(df1.head())\n"
      ],
      "metadata": {
        "colab": {
          "base_uri": "https://localhost:8080/"
        },
        "id": "8gBaw5gA4O5B",
        "outputId": "eca482c0-b434-4d44-b6d2-add581a93dfa"
      },
      "execution_count": null,
      "outputs": [
        {
          "output_type": "stream",
          "name": "stdout",
          "text": [
            "Kia cars data:\n",
            "                        Name                                Details    Price  \\\n",
            "0      KIA SELTOSGTX (O) 1.4  Reg. serviced23,252 kmPetrol1st owner  ₹14.60L   \n",
            "1  KIA SONETGTX PLUS 1.0 IMT        Sunroof35,415 kmPetrol1st owner   ₹9.94L   \n",
            "2      KIA SONETGTX PLUS 1.5  Reg. serviced28,326 kmDiesel1st owner  ₹11.99L   \n",
            "3     KIA SELTOSHTK PLUS 1.5   Alloy wheels48,880 kmPetrol1st owner   ₹9.90L   \n",
            "4     KIA SELTOSHTK PLUS 1.5   Alloy wheels15,160 kmPetrol1st owner  ₹10.79L   \n",
            "\n",
            "                                       Location  Year Kilometers Driven  \\\n",
            "0     Free Test DriveTomorrowatGoregaon, Mumbai  2022            23,252   \n",
            "1     Free Test DriveTomorrowatGoregaon, Mumbai  2020            35,415   \n",
            "2     Free Test DriveTomorrowatGoregaon, Mumbai  2022            28,326   \n",
            "3  Free Test DriveTomorrowatMulund West, Mumbai  2020            48,880   \n",
            "4     Free Test DriveTomorrowatGoregaon, Mumbai  2020            15,160   \n",
            "\n",
            "  Fuel Type      Owner  \n",
            "0    Petrol  1st owner  \n",
            "1    Petrol  1st owner  \n",
            "2    Diesel  1st owner  \n",
            "3    Petrol  1st owner  \n",
            "4    Petrol  1st owner  \n"
          ]
        }
      ]
    },
    {
      "cell_type": "code",
      "source": [
        "print(\"Nissan cars data:\")\n",
        "print(df2.head())"
      ],
      "metadata": {
        "colab": {
          "base_uri": "https://localhost:8080/"
        },
        "id": "-POOnFow4Rwh",
        "outputId": "895b5223-4c29-4741-956f-936eefdab50f"
      },
      "execution_count": null,
      "outputs": [
        {
          "output_type": "stream",
          "name": "stdout",
          "text": [
            "Nissan cars data:\n",
            "                         Name                                Details   Price  \\\n",
            "0         Nissan MAGNITEXV MT   Alloy wheels33,160 kmPetrol1st owner  ₹6.58L   \n",
            "1  Nissan MAGNITEXL TURBO CVT  Reg. serviced15,037 kmPetrol1st owner  ₹7.74L   \n",
            "2    Nissan MAGNITEXV PREMIUM      Top Model47,127 kmPetrol1st owner  ₹6.60L   \n",
            "3       Nissan MicraXV PETROL      Top Model40,385 kmPetrol2nd owner  ₹1.91L   \n",
            "4         Nissan MAGNITEXV MT   Alloy wheels33,160 kmPetrol1st owner  ₹6.58L   \n",
            "\n",
            "                                       Location  Year Kilometers Driven  \\\n",
            "0     Free Test DriveTomorrowatGoregaon, Mumbai  2022            33,160   \n",
            "1     Free Test DriveTomorrowatGoregaon, Mumbai  2022            15,037   \n",
            "2  Free Test DriveTomorrowatMulund West, Mumbai  2021            47,127   \n",
            "3              Free Test DriveTomorrowatSeawood  2012            40,385   \n",
            "4     Free Test DriveTomorrowatGoregaon, Mumbai  2022            33,160   \n",
            "\n",
            "  Fuel Type      Owner  \n",
            "0    Petrol  1st owner  \n",
            "1    Petrol  1st owner  \n",
            "2    Petrol  1st owner  \n",
            "3    Petrol  2nd owner  \n",
            "4    Petrol  1st owner  \n"
          ]
        }
      ]
    },
    {
      "cell_type": "code",
      "source": [
        "print(\"Shape of Hyundai dataset:\", df.shape)\n",
        "print(\"Shape of Kia dataset:\", df1.shape)\n",
        "print(\"Shape of Nissan dataset:\", df2.shape)"
      ],
      "metadata": {
        "colab": {
          "base_uri": "https://localhost:8080/"
        },
        "id": "MczMJkWP4S-O",
        "outputId": "1f9f5f1a-1503-4841-fd92-74a1634f96fd"
      },
      "execution_count": null,
      "outputs": [
        {
          "output_type": "stream",
          "name": "stdout",
          "text": [
            "Shape of Hyundai dataset: (100, 8)\n",
            "Shape of Kia dataset: (50, 8)\n",
            "Shape of Nissan dataset: (20, 8)\n"
          ]
        }
      ]
    },
    {
      "cell_type": "markdown",
      "source": [
        "#Checking shapes of datasets"
      ],
      "metadata": {
        "id": "t_u7x_q_43Ik"
      }
    },
    {
      "cell_type": "code",
      "source": [
        "merge_df = pd.concat([df, df1, df2], axis=0)\n",
        "print(\"Merged dataset shape:\", merge_df.shape)\n",
        "print(merge_df.head())"
      ],
      "metadata": {
        "colab": {
          "base_uri": "https://localhost:8080/"
        },
        "id": "OA-qkR-t4Vwp",
        "outputId": "ce9a72d6-54db-4c2b-b446-37181743e6e1"
      },
      "execution_count": null,
      "outputs": [
        {
          "output_type": "stream",
          "name": "stdout",
          "text": [
            "Merged dataset shape: (170, 8)\n",
            "                                 Name                                 Details  \\\n",
            "0       Hyundai Elite i20ASTA 1.2 (O)       Top Model41,049 kmPetrol2nd owner   \n",
            "1  Hyundai CretaSX PLUS AT 1.6 DIESEL       Top Model33,417 kmDiesel2nd owner   \n",
            "2             Hyundai i20 Active1.2 S    Alloy wheels66,357 kmPetrol2nd owner   \n",
            "3       Hyundai NEW I20Sportz 1.2 IVT    Reg. serviced8,330 kmPetrol1st owner   \n",
            "4       Hyundai VENUESX 1.0 (O) TURBO  Fancy reg. no.23,955 kmPetrol2nd owner   \n",
            "\n",
            "    Price                                      Location  Year  \\\n",
            "0  ₹5.80L     Free Test DriveTomorrowatGoregaon, Mumbai  2019   \n",
            "1  ₹8.25L     Free Test DriveTomorrowatGoregaon, Mumbai  2016   \n",
            "2  ₹4.65L  Free Test DriveTomorrowatMulund West, Mumbai  2016   \n",
            "3  ₹8.76L     Free Test DriveTomorrowatGoregaon, Mumbai  2022   \n",
            "4  ₹8.87L              Free Test DriveTomorrowatSeawood  2021   \n",
            "\n",
            "  Kilometers Driven Fuel Type      Owner  \n",
            "0            41,049    Petrol  2nd owner  \n",
            "1            33,417    Diesel  2nd owner  \n",
            "2            66,357    Petrol  2nd owner  \n",
            "3             8,330    Petrol  1st owner  \n",
            "4            23,955    Petrol  2nd owner  \n"
          ]
        }
      ]
    },
    {
      "cell_type": "markdown",
      "source": [
        "#Data Information"
      ],
      "metadata": {
        "id": "4e82wrSq5AGY"
      }
    },
    {
      "cell_type": "code",
      "source": [
        "print(\"Merged Data Information:\")\n",
        "merge_df.info()"
      ],
      "metadata": {
        "colab": {
          "base_uri": "https://localhost:8080/"
        },
        "id": "pOCUm5OM49xu",
        "outputId": "03e4c7b9-7726-4e09-98d7-1fa60e8d1fa1"
      },
      "execution_count": null,
      "outputs": [
        {
          "output_type": "stream",
          "name": "stdout",
          "text": [
            "Merged Data Information:\n",
            "<class 'pandas.core.frame.DataFrame'>\n",
            "Index: 170 entries, 0 to 19\n",
            "Data columns (total 8 columns):\n",
            " #   Column             Non-Null Count  Dtype \n",
            "---  ------             --------------  ----- \n",
            " 0   Name               170 non-null    object\n",
            " 1   Details            170 non-null    object\n",
            " 2   Price              170 non-null    object\n",
            " 3   Location           170 non-null    object\n",
            " 4   Year               170 non-null    int64 \n",
            " 5   Kilometers Driven  170 non-null    object\n",
            " 6   Fuel Type          170 non-null    object\n",
            " 7   Owner              170 non-null    object\n",
            "dtypes: int64(1), object(7)\n",
            "memory usage: 12.0+ KB\n"
          ]
        }
      ]
    },
    {
      "cell_type": "markdown",
      "source": [
        "#Checking missing values"
      ],
      "metadata": {
        "id": "Dfgu8Xlx5FBt"
      }
    },
    {
      "cell_type": "code",
      "source": [
        "print(\"Missing values in merged data:\")\n",
        "print(merge_df.isnull().sum())"
      ],
      "metadata": {
        "colab": {
          "base_uri": "https://localhost:8080/"
        },
        "id": "tyFm2ajR5IE9",
        "outputId": "33dc7791-16e4-42cd-bb2d-ae37833b67bf"
      },
      "execution_count": null,
      "outputs": [
        {
          "output_type": "stream",
          "name": "stdout",
          "text": [
            "Missing values in merged data:\n",
            "Name                 0\n",
            "Details              0\n",
            "Price                0\n",
            "Location             0\n",
            "Year                 0\n",
            "Kilometers Driven    0\n",
            "Fuel Type            0\n",
            "Owner                0\n",
            "dtype: int64\n"
          ]
        }
      ]
    },
    {
      "cell_type": "markdown",
      "source": [
        "# Dropping rows with missing values"
      ],
      "metadata": {
        "id": "FVv38_yp5exI"
      }
    },
    {
      "cell_type": "code",
      "source": [
        "merge_df_cleaned = merge_df.dropna(axis=0)\n",
        "print(\"Shape after dropping missing values:\", merge_df_cleaned.shape)\n",
        "print(\"Missing values after cleaning:\")\n",
        "print(merge_df_cleaned.isnull().sum())"
      ],
      "metadata": {
        "colab": {
          "base_uri": "https://localhost:8080/"
        },
        "id": "g0LgG10f5MBG",
        "outputId": "468887a5-d4d0-4365-f289-ea36f386195e"
      },
      "execution_count": null,
      "outputs": [
        {
          "output_type": "stream",
          "name": "stdout",
          "text": [
            "Shape after dropping missing values: (170, 8)\n",
            "Missing values after cleaning:\n",
            "Name                 0\n",
            "Details              0\n",
            "Price                0\n",
            "Location             0\n",
            "Year                 0\n",
            "Kilometers Driven    0\n",
            "Fuel Type            0\n",
            "Owner                0\n",
            "dtype: int64\n"
          ]
        }
      ]
    },
    {
      "cell_type": "markdown",
      "source": [
        "#Descriptive Statistics"
      ],
      "metadata": {
        "id": "IlDXSEsZ5l89"
      }
    },
    {
      "cell_type": "code",
      "source": [
        "print(\"Descriptive Statistics:\")\n",
        "print(merge_df_cleaned.describe())"
      ],
      "metadata": {
        "colab": {
          "base_uri": "https://localhost:8080/"
        },
        "id": "PqNHHze25ibe",
        "outputId": "87864f41-9320-4625-8295-b90a4ea8b954"
      },
      "execution_count": null,
      "outputs": [
        {
          "output_type": "stream",
          "name": "stdout",
          "text": [
            "Descriptive Statistics:\n",
            "              Year\n",
            "count   170.000000\n",
            "mean   2018.970588\n",
            "std       2.614087\n",
            "min    2012.000000\n",
            "25%    2016.000000\n",
            "50%    2020.000000\n",
            "75%    2021.000000\n",
            "max    2022.000000\n"
          ]
        }
      ]
    },
    {
      "cell_type": "markdown",
      "source": [
        "# Checking for duplicate rows"
      ],
      "metadata": {
        "id": "7w_nd_G45tVY"
      }
    },
    {
      "cell_type": "code",
      "source": [
        "duplicates = merge_df_cleaned.duplicated().sum()\n",
        "print(f\"Number of duplicate rows: {duplicates}\")"
      ],
      "metadata": {
        "colab": {
          "base_uri": "https://localhost:8080/"
        },
        "id": "h7n4t_sI5rEf",
        "outputId": "dcda5de5-be3e-4482-ce35-9468fa58abc9"
      },
      "execution_count": null,
      "outputs": [
        {
          "output_type": "stream",
          "name": "stdout",
          "text": [
            "Number of duplicate rows: 136\n"
          ]
        }
      ]
    },
    {
      "cell_type": "markdown",
      "source": [
        "#Dropping the duplicate rows"
      ],
      "metadata": {
        "id": "oT-bssCX5yaa"
      }
    },
    {
      "cell_type": "code",
      "source": [
        "merge_df_cleaned = merge_df_cleaned.drop_duplicates()"
      ],
      "metadata": {
        "id": "MuFHqNJ25vs6"
      },
      "execution_count": null,
      "outputs": []
    },
    {
      "cell_type": "markdown",
      "source": [
        "#Exploratory Data Analysis(EDA)"
      ],
      "metadata": {
        "id": "fuYckssl553L"
      }
    },
    {
      "cell_type": "code",
      "source": [
        "# Remove '₹' and 'L', then convert to float\n",
        "merge_df_cleaned['Price'] = merge_df_cleaned['Price'].str.replace('₹', '', regex=True)  # Remove ₹ symbol\n",
        "merge_df_cleaned['Price'] = merge_df_cleaned['Price'].str.replace('L', '', regex=True)  # Remove 'L' for Lakh\n",
        "merge_df_cleaned['Price'] = pd.to_numeric(merge_df_cleaned['Price'], errors='coerce')  # Convert to float\n"
      ],
      "metadata": {
        "id": "JHT6VST9_pLI"
      },
      "execution_count": null,
      "outputs": []
    },
    {
      "cell_type": "code",
      "source": [
        "# Drop rows where 'Price' is still missing\n",
        "merge_df_cleaned = merge_df_cleaned.dropna(subset=['Price'])\n"
      ],
      "metadata": {
        "id": "sTZ9LNaP_sjn"
      },
      "execution_count": null,
      "outputs": []
    },
    {
      "cell_type": "code",
      "source": [
        "plt.figure(figsize=(10, 6))\n",
        "sns.histplot(merge_df_cleaned['Price'], bins=30, kde=True)\n",
        "plt.title('Distribution of Car Prices')\n",
        "plt.xlabel('Price (in Lakhs)')\n",
        "plt.ylabel('Frequency')\n",
        "plt.show()\n"
      ],
      "metadata": {
        "colab": {
          "base_uri": "https://localhost:8080/",
          "height": 564
        },
        "id": "BIaI_w9cAC0d",
        "outputId": "f8a3b55c-d23f-4eaa-9aed-93ac604f6e72"
      },
      "execution_count": null,
      "outputs": [
        {
          "output_type": "display_data",
          "data": {
            "text/plain": [
              "<Figure size 1000x600 with 1 Axes>"
            ],
            "image/png": "[encoded data removed]"
          },
          "metadata": {}
        }
      ]
    },
    {
      "cell_type": "code",
      "source": [
        "plt.figure(figsize=(8, 5))\n",
        "sns.countplot(x='Fuel Type', data=merge_df_cleaned, palette='Set1')\n",
        "plt.title('Distribution of Fuel Type')\n",
        "plt.show()"
      ],
      "metadata": {
        "colab": {
          "base_uri": "https://localhost:8080/",
          "height": 594
        },
        "id": "W9hODqktAwif",
        "outputId": "c86fa6b3-0605-4c95-d3a1-d81b599fc710"
      },
      "execution_count": null,
      "outputs": [
        {
          "output_type": "stream",
          "name": "stderr",
          "text": [
            "<ipython-input-42-4b87167b31f8>:2: FutureWarning: \n",
            "\n",
            "Passing `palette` without assigning `hue` is deprecated and will be removed in v0.14.0. Assign the `x` variable to `hue` and set `legend=False` for the same effect.\n",
            "\n",
            "  sns.countplot(x='Fuel Type', data=merge_df_cleaned, palette='Set1')\n"
          ]
        },
        {
          "output_type": "display_data",
          "data": {
            "text/plain": [
              "<Figure size 800x500 with 1 Axes>"
            ],
            "image/png": "[encoded data removed]"
          },
          "metadata": {}
        }
      ]
    },
    {
      "cell_type": "code",
      "source": [
        "plt.figure(figsize=(8, 5))\n",
        "sns.boxplot(x='Fuel Type', y='Price', data=merge_df_cleaned, palette=\"Set1\")\n",
        "plt.title(\"Price Distribution by Fuel Type\")\n",
        "plt.show()"
      ],
      "metadata": {
        "colab": {
          "base_uri": "https://localhost:8080/",
          "height": 594
        },
        "id": "-8PaloCgBFf0",
        "outputId": "5439c6ef-79ac-48b6-c203-1e17cabb19c8"
      },
      "execution_count": null,
      "outputs": [
        {
          "output_type": "stream",
          "name": "stderr",
          "text": [
            "<ipython-input-43-765453210ac3>:2: FutureWarning: \n",
            "\n",
            "Passing `palette` without assigning `hue` is deprecated and will be removed in v0.14.0. Assign the `x` variable to `hue` and set `legend=False` for the same effect.\n",
            "\n",
            "  sns.boxplot(x='Fuel Type', y='Price', data=merge_df_cleaned, palette=\"Set1\")\n"
          ]
        },
        {
          "output_type": "display_data",
          "data": {
            "text/plain": [
              "<Figure size 800x500 with 1 Axes>"
            ],
            "image/png": "[encoded data removed]"
          },
          "metadata": {}
        }
      ]
    },
    {
      "cell_type": "code",
      "source": [
        "plt.figure(figsize=(10, 10))\n",
        "sns.scatterplot(x='Kilometers Driven', y='Price', data=merge_df_cleaned, hue='Fuel Type', palette=\"coolwarm\")\n",
        "plt.title(\"Price vs Kilometers Driven\")\n",
        "plt.show()\n"
      ],
      "metadata": {
        "colab": {
          "base_uri": "https://localhost:8080/",
          "height": 872
        },
        "id": "zXSzFfVdBNXP",
        "outputId": "4f4ed8f6-6ab6-4fab-cc9c-00cb4adf8234"
      },
      "execution_count": null,
      "outputs": [
        {
          "output_type": "display_data",
          "data": {
            "text/plain": [
              "<Figure size 1000x1000 with 1 Axes>"
            ],
            "image/png": "[encoded data removed]"
          },
          "metadata": {}
        }
      ]
    },
    {
      "cell_type": "code",
      "source": [
        "print(\"\\n### Summary and Insights ###\\n\")\n",
        "print(f\"The merged dataset contains {merge_df_cleaned.shape[0]} rows and {merge_df_cleaned.shape[1]} columns after cleaning.\")\n",
        "\n",
        "# Price Insights\n",
        "avg_price = merge_df_cleaned['Price'].mean()\n",
        "std_price = merge_df_cleaned['Price'].std()\n",
        "print(f\"1. The average price of the cars is {avg_price:.2f} Lakhs with a standard deviation of {std_price:.2f} Lakhs.\")"
      ],
      "metadata": {
        "colab": {
          "base_uri": "https://localhost:8080/"
        },
        "id": "neXX8LaPGXi3",
        "outputId": "bd27c058-2dbd-4428-8465-bc5e55de1913"
      },
      "execution_count": null,
      "outputs": [
        {
          "output_type": "stream",
          "name": "stdout",
          "text": [
            "\n",
            "### Summary and Insights ###\n",
            "\n",
            "The merged dataset contains 34 rows and 8 columns after cleaning.\n",
            "1. The average price of the cars is 8.63 Lakhs with a standard deviation of 3.12 Lakhs.\n"
          ]
        }
      ]
    },
    {
      "cell_type": "code",
      "source": [
        "most_common_fuel = merge_df_cleaned['Fuel Type'].value_counts().idxmax()\n",
        "print(f\"3. The most common fuel type is {most_common_fuel}.\")"
      ],
      "metadata": {
        "colab": {
          "base_uri": "https://localhost:8080/"
        },
        "id": "W4nL2Nv2G48d",
        "outputId": "8192a4ed-5874-4040-ffaf-c62403eedeb7"
      },
      "execution_count": null,
      "outputs": [
        {
          "output_type": "stream",
          "name": "stdout",
          "text": [
            "3. The most common fuel type is Petrol.\n"
          ]
        }
      ]
    }
  ]
}